{
 "cells": [
  {
   "cell_type": "markdown",
   "metadata": {
    "colab_type": "text",
    "id": "view-in-github"
   },
   "source": [
    "<a href=\"https://colab.research.google.com/github/t-fuchi/MacroExpand/blob/main/MacroExpand.ipynb\" target=\"_parent\"><img src=\"https://colab.research.google.com/assets/colab-badge.svg\" alt=\"Open In Colab\"/></a>"
   ]
  },
  {
   "cell_type": "markdown",
   "metadata": {
    "id": "6hakTZQQskdm"
   },
   "source": [
    "# C++のテンプレートのインスタンス化をマクロを使って楽にする"
   ]
  },
  {
   "cell_type": "markdown",
   "metadata": {
    "id": "mSFc2_iHuHe4"
   },
   "source": [
    "本投稿ではC++でのジェネリックプログラミングにおいて、オブジェクトファイルで配布する場合に手間がかかるインスタンス化の問題を軽減する方法を提案します。"
   ]
  },
  {
   "cell_type": "markdown",
   "metadata": {
    "id": "_q9SHJ88tZSF"
   },
   "source": [
    "C++のテンプレートはとても便利です。例えば以下のようにテンプレートを使えば、それぞれの型ごとにfunc()を定義しないですみます。"
   ]
  },
  {
   "cell_type": "code",
   "execution_count": 1,
   "metadata": {
    "colab": {
     "base_uri": "https://localhost:8080/"
    },
    "id": "2x10-W2XZkJE",
    "outputId": "03b5254a-e6fa-43b8-8d54-731a5a9c0afe"
   },
   "outputs": [
    {
     "name": "stdout",
     "output_type": "stream",
     "text": [
      "Overwriting macro_test.cpp\n"
     ]
    }
   ],
   "source": [
    "%%writefile macro_test.cpp\n",
    "\n",
    "#include <iostream>\n",
    "#include <typeinfo>\n",
    "\n",
    "template <typename T>\n",
    "T func(T v) {\n",
    "    std::cout << v << \":\" << typeid(v).name() << std::endl;\n",
    "    return v;\n",
    "}\n",
    "\n",
    "int main(int argc, char **argv) {\n",
    "    uint32_t u32 = 1;\n",
    "    func(u32);\n",
    "    int32_t s32 = 1;\n",
    "    func(s32);\n",
    "    int64_t s64 = 1;\n",
    "    func(s64);\n",
    "    return 0;\n",
    "}"
   ]
  },
  {
   "cell_type": "code",
   "execution_count": 2,
   "metadata": {
    "colab": {
     "base_uri": "https://localhost:8080/"
    },
    "id": "8jy40nQXawH6",
    "outputId": "9e2e349c-dcc9-47ab-829d-34661aed24ec"
   },
   "outputs": [
    {
     "name": "stdout",
     "output_type": "stream",
     "text": [
      "1:j\n",
      "1:i\n",
      "1:l\n"
     ]
    }
   ],
   "source": [
    "!g++ macro_test.cpp\n",
    "!./a.out"
   ]
  },
  {
   "cell_type": "markdown",
   "metadata": {
    "id": "k_KYbE6SwSw7"
   },
   "source": [
    "ここでなんらかの事情によりオブジェクトファイル（.oや.aや.so）でのみ配布したい場合を考えます。その場合、以下のようにテンプレートの定義のみを記述しても、個別の型に対してインスタンス化されません。"
   ]
  },
  {
   "cell_type": "code",
   "execution_count": 3,
   "metadata": {
    "colab": {
     "base_uri": "https://localhost:8080/"
    },
    "id": "FYpfpksSd2Hm",
    "outputId": "6973fa6c-9ef6-4400-bf83-13b0a0450f8c"
   },
   "outputs": [
    {
     "name": "stdout",
     "output_type": "stream",
     "text": [
      "Overwriting macro_test.cpp\n"
     ]
    }
   ],
   "source": [
    "%%writefile macro_test.cpp\n",
    "#include <iostream>\n",
    "\n",
    "template <typename T>\n",
    "T func(T v) {\n",
    "    std::cout << v << \":\" << typeid(v).name() << std::endl;\n",
    "    return v;\n",
    "}\n"
   ]
  },
  {
   "cell_type": "code",
   "execution_count": 4,
   "metadata": {
    "colab": {
     "base_uri": "https://localhost:8080/"
    },
    "id": "6ZS3fjfyfSe9",
    "outputId": "697c1b5a-caeb-419d-f92c-e73eeb1bb7b1"
   },
   "outputs": [
    {
     "name": "stdout",
     "output_type": "stream",
     "text": [
      "                 U __cxa_atexit\n",
      "                 U __dso_handle\n",
      "                 U _GLOBAL_OFFSET_TABLE_\n",
      "                 U _ZNSt8ios_base4InitC1Ev\n",
      "                 U _ZNSt8ios_base4InitD1Ev\n"
     ]
    }
   ],
   "source": [
    "!g++ macro_test.cpp -c\n",
    "!nm -g macro_test.o"
   ]
  },
  {
   "cell_type": "markdown",
   "metadata": {
    "id": "NXY2oopMxEoO"
   },
   "source": [
    "上記でfuncを含むシンボルが生成されていないことが分かります。このままmacro_test.oをリンクしてもfunc()は使用できません。"
   ]
  },
  {
   "cell_type": "markdown",
   "metadata": {
    "id": "D25f9sJSxr49"
   },
   "source": [
    "この問題は以下のように特殊化した関数を定義しておくことで解決できます。"
   ]
  },
  {
   "cell_type": "code",
   "execution_count": 5,
   "metadata": {
    "colab": {
     "base_uri": "https://localhost:8080/"
    },
    "id": "EieV3085e6M8",
    "outputId": "85a187cc-d483-45a5-8661-64f12a450d9c"
   },
   "outputs": [
    {
     "name": "stdout",
     "output_type": "stream",
     "text": [
      "Overwriting macro_test.cpp\n"
     ]
    }
   ],
   "source": [
    "%%writefile macro_test.cpp\n",
    "#include <iostream>\n",
    "\n",
    "template <typename T>\n",
    "T func(T v) {\n",
    "    std::cout << v << \":\" << typeid(v).name() << std::endl;\n",
    "    return v;\n",
    "}\n",
    "\n",
    "template <>\n",
    "int func(int v) {\n",
    "    return func<int>(v);\n",
    "}\n"
   ]
  },
  {
   "cell_type": "code",
   "execution_count": 6,
   "metadata": {
    "colab": {
     "base_uri": "https://localhost:8080/"
    },
    "id": "siByFiOEgj5X",
    "outputId": "76ca8fba-601f-4b8d-8499-e0fd5f7fde6b"
   },
   "outputs": [
    {
     "name": "stdout",
     "output_type": "stream",
     "text": [
      "                 U __cxa_atexit\n",
      "                 U __dso_handle\n",
      "                 U _GLOBAL_OFFSET_TABLE_\n",
      "0000000000000000 T _Z4funcIiET_S0_\n",
      "                 U _ZNSt8ios_base4InitC1Ev\n",
      "                 U _ZNSt8ios_base4InitD1Ev\n"
     ]
    }
   ],
   "source": [
    "!g++ macro_test.cpp -c\n",
    "!nm -g macro_test.o"
   ]
  },
  {
   "cell_type": "markdown",
   "metadata": {
    "id": "QpPF5aasbi6b"
   },
   "source": [
    "と書きましたが、コメントで明示的実体化を教えていただきました。明示的実体化はこうします。"
   ]
  },
  {
   "cell_type": "code",
   "execution_count": 7,
   "metadata": {
    "colab": {
     "base_uri": "https://localhost:8080/"
    },
    "id": "CJ32fGfEbo80",
    "outputId": "7f1888f0-9841-49d2-b295-979610e774a0"
   },
   "outputs": [
    {
     "name": "stdout",
     "output_type": "stream",
     "text": [
      "Overwriting macro_test.cpp\n"
     ]
    }
   ],
   "source": [
    "%%writefile macro_test.cpp\n",
    "#include <iostream>\n",
    "\n",
    "template <typename T>\n",
    "T func(T v) {\n",
    "    std::cout << v << \":\" << typeid(v).name() << std::endl;\n",
    "    return v;\n",
    "}\n",
    "\n",
    "template int func(int v);\n"
   ]
  },
  {
   "cell_type": "code",
   "execution_count": 8,
   "metadata": {
    "colab": {
     "base_uri": "https://localhost:8080/"
    },
    "id": "FZkCBHIbbxTp",
    "outputId": "2f49e083-cc47-4aba-d160-5a269f86f672"
   },
   "outputs": [
    {
     "name": "stdout",
     "output_type": "stream",
     "text": [
      "                 U __cxa_atexit\n",
      "                 U __dso_handle\n",
      "                 U _GLOBAL_OFFSET_TABLE_\n",
      "0000000000000000 W _Z4funcIiET_S0_\n",
      "0000000000000000 W _ZNKSt9type_info4nameEv\n",
      "                 U _ZNSolsEi\n",
      "                 U _ZNSolsEPFRSoS_E\n",
      "                 U _ZNSt8ios_base4InitC1Ev\n",
      "                 U _ZNSt8ios_base4InitD1Ev\n",
      "                 U _ZSt4cout\n",
      "                 U _ZSt4endlIcSt11char_traitsIcEERSt13basic_ostreamIT_T0_ES6_\n",
      "                 U _ZStlsISt11char_traitsIcEERSt13basic_ostreamIcT_ES5_PKc\n",
      "                 U _ZTIi\n"
     ]
    }
   ],
   "source": [
    "!g++ macro_test.cpp -c\n",
    "!nm -g macro_test.o"
   ]
  },
  {
   "cell_type": "markdown",
   "metadata": {
    "id": "ntgA2xngx7Eu"
   },
   "source": [
    "funcを含むシンボルが生成されているのが分かります。色々な型に対して準備するには次のように列挙することになります。"
   ]
  },
  {
   "cell_type": "code",
   "execution_count": 9,
   "metadata": {
    "colab": {
     "base_uri": "https://localhost:8080/"
    },
    "id": "WyIu9LeSq-Rq",
    "outputId": "5453c5b9-637f-4b8c-cc13-b96d2f81897f"
   },
   "outputs": [
    {
     "name": "stdout",
     "output_type": "stream",
     "text": [
      "Overwriting macro_test.cpp\n"
     ]
    }
   ],
   "source": [
    "%%writefile macro_test.cpp\n",
    "#include <iostream>\n",
    "\n",
    "template <typename T>\n",
    "T func(T v) {\n",
    "    std::cout << v << \":\" << typeid(v).name() << std::endl;\n",
    "    return v;\n",
    "}\n",
    "\n",
    "template int func(int v);\n",
    "template long func(int v);\n",
    "template long long func(int v);\n",
    "template unsigned int func(int v);\n",
    "template unsigned long func(int v);\n",
    "template unsigned long long func(int v);\n",
    "..."
   ]
  },
  {
   "cell_type": "markdown",
   "metadata": {
    "id": "0Q8z8JVryh6W"
   },
   "source": [
    "これは地味につらい(かと思いましたが、明示的実体化ではそれほど辛くありませんね^^;;)。こんなテンプレートが５つも６つもあったら堪りません。解決するC++の機能を探したのですが、見当たりませんでした。というか探し方が分かりませんでした。"
   ]
  },
  {
   "cell_type": "markdown",
   "metadata": {
    "id": "XZIrBNY0z0l7"
   },
   "source": [
    "マクロで型のリストを与えて生成する方法を探しましたが、マクロにはfor文のような機能は備わっていないようです。一旦は諦めましたが、良い方法が見つかったので共有します。"
   ]
  },
  {
   "cell_type": "markdown",
   "metadata": {
    "id": "thWTn6Ne1B4h"
   },
   "source": [
    "マクロの中からマクロを呼ぶ方法です。まず次のようにそれぞれの型を引数にしてマクロを生成するマクロ(EXPAND_TYPE)を定義します。"
   ]
  },
  {
   "cell_type": "code",
   "execution_count": 10,
   "metadata": {
    "colab": {
     "base_uri": "https://localhost:8080/"
    },
    "id": "Nr5oT2CaZHDl",
    "outputId": "2a8e2ebb-d4fd-4d5c-f7fb-fa6d6adf86c3"
   },
   "outputs": [
    {
     "name": "stdout",
     "output_type": "stream",
     "text": [
      "Overwriting macro_expand.h\n"
     ]
    }
   ],
   "source": [
    "%%writefile macro_expand.h\n",
    "\n",
    "#define EXPAND_TYPE(M) \\\n",
    "M(int); \\\n",
    "M(long); \\\n",
    "M(long long); \\\n",
    "M(unsigned int); \\\n",
    "M(unsigned long); \\\n",
    "M(unsigned long long); \\\n",
    "M(float); \\\n",
    "M(double);"
   ]
  },
  {
   "cell_type": "markdown",
   "metadata": {
    "id": "jorDN_n21gl6"
   },
   "source": [
    "これの動作を確認してみましょう。"
   ]
  },
  {
   "cell_type": "code",
   "execution_count": 11,
   "metadata": {
    "colab": {
     "base_uri": "https://localhost:8080/"
    },
    "id": "OzwONXgo1lbY",
    "outputId": "a9cedbb7-2a85-4a97-f232-9a5afee8d4fa"
   },
   "outputs": [
    {
     "name": "stdout",
     "output_type": "stream",
     "text": [
      "Overwriting macro_expand.cpp\n"
     ]
    }
   ],
   "source": [
    "%%writefile macro_expand.cpp\n",
    "#include \"macro_expand.h\"\n",
    "EXPAND_TYPE(func)"
   ]
  },
  {
   "cell_type": "code",
   "execution_count": 12,
   "metadata": {
    "colab": {
     "base_uri": "https://localhost:8080/"
    },
    "id": "S5DYHUw51vpU",
    "outputId": "e0371ef5-9500-4b39-9b1d-30dadebe146e"
   },
   "outputs": [
    {
     "name": "stdout",
     "output_type": "stream",
     "text": [
      "func(int); func(long); func(long long); func(unsigned int); func(unsigned long); func(unsigned long long); func(float); func(double);\n"
     ]
    }
   ],
   "source": [
    "!g++ -E macro_expand.cpp | grep -v \"#\""
   ]
  },
  {
   "cell_type": "markdown",
   "metadata": {
    "id": "GNZTMqB32R7_"
   },
   "source": [
    "改行されないので見にくいですが、コンパイラさんにはちゃんと伝わりそうです。"
   ]
  },
  {
   "cell_type": "markdown",
   "metadata": {
    "id": "VEncuA6Y3zKK"
   },
   "source": [
    "実際の使い方は以下のようにテンプレートを実体化する関数に展開するマクロ(FUNC)を定義してEXPAND_TYPEに渡します。\n",
    "\n",
    "\n"
   ]
  },
  {
   "cell_type": "code",
   "execution_count": 13,
   "metadata": {
    "colab": {
     "base_uri": "https://localhost:8080/"
    },
    "id": "eLOiFuSEgnM-",
    "outputId": "7d976ae1-ce46-4bed-ae73-c339aa66142a"
   },
   "outputs": [
    {
     "name": "stdout",
     "output_type": "stream",
     "text": [
      "Overwriting macro_expand.cpp\n"
     ]
    }
   ],
   "source": [
    "%%writefile macro_expand.cpp\n",
    "#include \"macro_expand.h\"\n",
    "\n",
    "template <typename T>\n",
    "T func(T v) {\n",
    "    return v;\n",
    "}\n",
    "\n",
    "#define FUNC(type) template type func(type v);\n",
    "EXPAND_TYPE(FUNC);"
   ]
  },
  {
   "cell_type": "code",
   "execution_count": 14,
   "metadata": {
    "colab": {
     "base_uri": "https://localhost:8080/"
    },
    "id": "WXf41RG-i0QF",
    "outputId": "6ec444e4-6375-447f-e111-54bbd71b506f"
   },
   "outputs": [
    {
     "name": "stdout",
     "output_type": "stream",
     "text": [
      "\n",
      "template <typename T>\n",
      "T func(T v) {\n",
      "    return v;\n",
      "}\n",
      "\n",
      "\n",
      "template int func(int v);; template long func(long v);; template long long func(long long v);; template unsigned int func(unsigned int v);; template unsigned long func(unsigned long v);; template unsigned long long func(unsigned long long v);; template float func(float v);; template double func(double v);;;\n"
     ]
    }
   ],
   "source": [
    "!g++ -E macro_expand.cpp | grep -v \"#\""
   ]
  },
  {
   "cell_type": "markdown",
   "metadata": {
    "id": "FYk6vE1O4ihb"
   },
   "source": [
    "うまくいきました。シンボルを確認してみましょう。"
   ]
  },
  {
   "cell_type": "code",
   "execution_count": 15,
   "metadata": {
    "colab": {
     "base_uri": "https://localhost:8080/"
    },
    "id": "P4ZLCcculdot",
    "outputId": "d2186a54-9a9a-4e1e-96f9-1b80a2fa052a"
   },
   "outputs": [
    {
     "name": "stdout",
     "output_type": "stream",
     "text": [
      "0000000000000000 W _Z4funcIdET_S0_\n",
      "0000000000000000 W _Z4funcIfET_S0_\n",
      "0000000000000000 W _Z4funcIiET_S0_\n",
      "0000000000000000 W _Z4funcIjET_S0_\n",
      "0000000000000000 W _Z4funcIlET_S0_\n",
      "0000000000000000 W _Z4funcImET_S0_\n",
      "0000000000000000 W _Z4funcIxET_S0_\n",
      "0000000000000000 W _Z4funcIyET_S0_\n"
     ]
    }
   ],
   "source": [
    "!g++ macro_expand.cpp -c\n",
    "!nm -g macro_expand.o"
   ]
  },
  {
   "cell_type": "markdown",
   "metadata": {
    "id": "mZlVyASh4_4X"
   },
   "source": [
    "funcがたくさん定義されているのがわかります。テンプレートごとにFUNCを定義してEXPAND_TYPEを呼ぶだけなので、少しはマシになったのではないでしょうか。"
   ]
  }
 ],
 "metadata": {
  "colab": {
   "authorship_tag": "ABX9TyNQHFiuJxE4Et2usQjZGNGF",
   "include_colab_link": true,
   "provenance": []
  },
  "kernelspec": {
   "display_name": "Python 3",
   "language": "python",
   "name": "python3"
  },
  "language_info": {
   "codemirror_mode": {
    "name": "ipython",
    "version": 3
   },
   "file_extension": ".py",
   "mimetype": "text/x-python",
   "name": "python",
   "nbconvert_exporter": "python",
   "pygments_lexer": "ipython3",
   "version": "3.7.2"
  }
 },
 "nbformat": 4,
 "nbformat_minor": 4
}
