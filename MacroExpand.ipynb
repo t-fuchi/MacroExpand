{
  "nbformat": 4,
  "nbformat_minor": 0,
  "metadata": {
    "colab": {
      "provenance": [],
      "authorship_tag": "ABX9TyNQHFiuJxE4Et2usQjZGNGF",
      "include_colab_link": true
    },
    "kernelspec": {
      "name": "python3",
      "display_name": "Python 3"
    },
    "language_info": {
      "name": "python"
    }
  },
  "cells": [
    {
      "cell_type": "markdown",
      "metadata": {
        "id": "view-in-github",
        "colab_type": "text"
      },
      "source": [
        "<a href=\"https://colab.research.google.com/github/t-fuchi/MacroExpand/blob/main/MacroExpand.ipynb\" target=\"_parent\"><img src=\"https://colab.research.google.com/assets/colab-badge.svg\" alt=\"Open In Colab\"/></a>"
      ]
    },
    {
      "cell_type": "markdown",
      "source": [
        "# C++のテンプレートのインスタンス化をマクロを使って楽にする"
      ],
      "metadata": {
        "id": "6hakTZQQskdm"
      }
    },
    {
      "cell_type": "markdown",
      "source": [
        "本投稿ではC++でのジェネリックプログラミングにおいて、オブジェクトファイルで配布する場合に手間がかかるインスタンス化の問題を軽減する方法を提案します。"
      ],
      "metadata": {
        "id": "mSFc2_iHuHe4"
      }
    },
    {
      "cell_type": "markdown",
      "source": [
        "C++のテンプレートはとても便利です。例えば以下のようにテンプレートを使えば、それぞれの型ごとにfunc()を定義しないですみます。"
      ],
      "metadata": {
        "id": "_q9SHJ88tZSF"
      }
    },
    {
      "cell_type": "code",
      "source": [
        "%%writefile macro_test.cpp\n",
        "\n",
        "#include <iostream>\n",
        "#include <typeinfo>\n",
        "\n",
        "template <typename T>\n",
        "T func(T v) {\n",
        "    std::cout << v << \":\" << typeid(v).name() << std::endl;\n",
        "    return v;\n",
        "}\n",
        "\n",
        "int main(int argc, char **argv) {\n",
        "    uint32_t u32 = 1;\n",
        "    func(u32);\n",
        "    int32_t s32 = 1;\n",
        "    func(s32);\n",
        "    int64_t s64 = 1;\n",
        "    func(s64);\n",
        "    return 0;\n",
        "}"
      ],
      "metadata": {
        "colab": {
          "base_uri": "https://localhost:8080/"
        },
        "id": "2x10-W2XZkJE",
        "outputId": "03b5254a-e6fa-43b8-8d54-731a5a9c0afe"
      },
      "execution_count": 1,
      "outputs": [
        {
          "output_type": "stream",
          "name": "stdout",
          "text": [
            "Overwriting macro_test.cpp\n"
          ]
        }
      ]
    },
    {
      "cell_type": "code",
      "source": [
        "!g++ macro_test.cpp\n",
        "!./a.out"
      ],
      "metadata": {
        "colab": {
          "base_uri": "https://localhost:8080/"
        },
        "id": "8jy40nQXawH6",
        "outputId": "9e2e349c-dcc9-47ab-829d-34661aed24ec"
      },
      "execution_count": 2,
      "outputs": [
        {
          "output_type": "stream",
          "name": "stdout",
          "text": [
            "1:j\n",
            "1:i\n",
            "1:l\n"
          ]
        }
      ]
    },
    {
      "cell_type": "markdown",
      "source": [
        "ここでなんらかの事情によりオブジェクトファイル（.oや.aや.so）でのみ配布したい場合を考えます。その場合、以下のようにテンプレートの定義のみを記述しても、個別の型に対してインスタンス化されません。"
      ],
      "metadata": {
        "id": "k_KYbE6SwSw7"
      }
    },
    {
      "cell_type": "code",
      "source": [
        "%%writefile macro_test.cpp\n",
        "#include <iostream>\n",
        "\n",
        "template <typename T>\n",
        "T func(T v) {\n",
        "    std::cout << v << \":\" << typeid(v).name() << std::endl;\n",
        "    return v;\n",
        "}\n"
      ],
      "metadata": {
        "colab": {
          "base_uri": "https://localhost:8080/"
        },
        "id": "FYpfpksSd2Hm",
        "outputId": "6973fa6c-9ef6-4400-bf83-13b0a0450f8c"
      },
      "execution_count": 3,
      "outputs": [
        {
          "output_type": "stream",
          "name": "stdout",
          "text": [
            "Overwriting macro_test.cpp\n"
          ]
        }
      ]
    },
    {
      "cell_type": "code",
      "source": [
        "!g++ macro_test.cpp -c\n",
        "!nm -g macro_test.o"
      ],
      "metadata": {
        "colab": {
          "base_uri": "https://localhost:8080/"
        },
        "id": "6ZS3fjfyfSe9",
        "outputId": "697c1b5a-caeb-419d-f92c-e73eeb1bb7b1"
      },
      "execution_count": 4,
      "outputs": [
        {
          "output_type": "stream",
          "name": "stdout",
          "text": [
            "                 U __cxa_atexit\n",
            "                 U __dso_handle\n",
            "                 U _GLOBAL_OFFSET_TABLE_\n",
            "                 U _ZNSt8ios_base4InitC1Ev\n",
            "                 U _ZNSt8ios_base4InitD1Ev\n"
          ]
        }
      ]
    },
    {
      "cell_type": "markdown",
      "source": [
        "上記でfuncを含むシンボルが生成されていないことが分かります。このままmacro_test.oをリンクしてもfunc()は使用できません。"
      ],
      "metadata": {
        "id": "NXY2oopMxEoO"
      }
    },
    {
      "cell_type": "markdown",
      "source": [
        "この問題は以下のように特殊化した関数を定義しておくことで解決できます。"
      ],
      "metadata": {
        "id": "D25f9sJSxr49"
      }
    },
    {
      "cell_type": "code",
      "source": [
        "%%writefile macro_test.cpp\n",
        "#include <iostream>\n",
        "\n",
        "template <typename T>\n",
        "T func(T v) {\n",
        "    std::cout << v << \":\" << typeid(v).name() << std::endl;\n",
        "    return v;\n",
        "}\n",
        "\n",
        "template <>\n",
        "int func(int v) {\n",
        "    return func<int>(v);\n",
        "}\n"
      ],
      "metadata": {
        "colab": {
          "base_uri": "https://localhost:8080/"
        },
        "id": "EieV3085e6M8",
        "outputId": "85a187cc-d483-45a5-8661-64f12a450d9c"
      },
      "execution_count": 5,
      "outputs": [
        {
          "output_type": "stream",
          "name": "stdout",
          "text": [
            "Overwriting macro_test.cpp\n"
          ]
        }
      ]
    },
    {
      "cell_type": "code",
      "source": [
        "!g++ macro_test.cpp -c\n",
        "!nm -g macro_test.o"
      ],
      "metadata": {
        "colab": {
          "base_uri": "https://localhost:8080/"
        },
        "id": "siByFiOEgj5X",
        "outputId": "76ca8fba-601f-4b8d-8499-e0fd5f7fde6b"
      },
      "execution_count": 6,
      "outputs": [
        {
          "output_type": "stream",
          "name": "stdout",
          "text": [
            "                 U __cxa_atexit\n",
            "                 U __dso_handle\n",
            "                 U _GLOBAL_OFFSET_TABLE_\n",
            "0000000000000000 T _Z4funcIiET_S0_\n",
            "                 U _ZNSt8ios_base4InitC1Ev\n",
            "                 U _ZNSt8ios_base4InitD1Ev\n"
          ]
        }
      ]
    },
    {
      "cell_type": "markdown",
      "source": [
        "と書きましたが、コメントで明示的実体化を教えていただきました。明示的実体化はこうします。"
      ],
      "metadata": {
        "id": "QpPF5aasbi6b"
      }
    },
    {
      "cell_type": "code",
      "source": [
        "%%writefile macro_test.cpp\n",
        "#include <iostream>\n",
        "\n",
        "template <typename T>\n",
        "T func(T v) {\n",
        "    std::cout << v << \":\" << typeid(v).name() << std::endl;\n",
        "    return v;\n",
        "}\n",
        "\n",
        "template int func(int v);\n"
      ],
      "metadata": {
        "colab": {
          "base_uri": "https://localhost:8080/"
        },
        "id": "CJ32fGfEbo80",
        "outputId": "7f1888f0-9841-49d2-b295-979610e774a0"
      },
      "execution_count": 7,
      "outputs": [
        {
          "output_type": "stream",
          "name": "stdout",
          "text": [
            "Overwriting macro_test.cpp\n"
          ]
        }
      ]
    },
    {
      "cell_type": "code",
      "source": [
        "!g++ macro_test.cpp -c\n",
        "!nm -g macro_test.o"
      ],
      "metadata": {
        "colab": {
          "base_uri": "https://localhost:8080/"
        },
        "id": "FZkCBHIbbxTp",
        "outputId": "2f49e083-cc47-4aba-d160-5a269f86f672"
      },
      "execution_count": 8,
      "outputs": [
        {
          "output_type": "stream",
          "name": "stdout",
          "text": [
            "                 U __cxa_atexit\n",
            "                 U __dso_handle\n",
            "                 U _GLOBAL_OFFSET_TABLE_\n",
            "0000000000000000 W _Z4funcIiET_S0_\n",
            "0000000000000000 W _ZNKSt9type_info4nameEv\n",
            "                 U _ZNSolsEi\n",
            "                 U _ZNSolsEPFRSoS_E\n",
            "                 U _ZNSt8ios_base4InitC1Ev\n",
            "                 U _ZNSt8ios_base4InitD1Ev\n",
            "                 U _ZSt4cout\n",
            "                 U _ZSt4endlIcSt11char_traitsIcEERSt13basic_ostreamIT_T0_ES6_\n",
            "                 U _ZStlsISt11char_traitsIcEERSt13basic_ostreamIcT_ES5_PKc\n",
            "                 U _ZTIi\n"
          ]
        }
      ]
    },
    {
      "cell_type": "markdown",
      "source": [
        "funcを含むシンボルが生成されているのが分かります。色々な型に対して準備するには次のように列挙することになります。"
      ],
      "metadata": {
        "id": "ntgA2xngx7Eu"
      }
    },
    {
      "cell_type": "code",
      "source": [
        "%%writefile macro_test.cpp\n",
        "#include <iostream>\n",
        "\n",
        "template <typename T>\n",
        "T func(T v) {\n",
        "    std::cout << v << \":\" << typeid(v).name() << std::endl;\n",
        "    return v;\n",
        "}\n",
        "\n",
        "template int func(int v);\n",
        "template long func(int v);\n",
        "template long long func(int v);\n",
        "template unsigned int func(int v);\n",
        "template unsigned long func(int v);\n",
        "template unsigned long long func(int v);\n",
        "..."
      ],
      "metadata": {
        "colab": {
          "base_uri": "https://localhost:8080/"
        },
        "id": "WyIu9LeSq-Rq",
        "outputId": "5453c5b9-637f-4b8c-cc13-b96d2f81897f"
      },
      "execution_count": 9,
      "outputs": [
        {
          "output_type": "stream",
          "name": "stdout",
          "text": [
            "Overwriting macro_test.cpp\n"
          ]
        }
      ]
    },
    {
      "cell_type": "markdown",
      "source": [
        "これは地味につらい(かと思いましたが、明示的実体化ではそれほど辛くありませんね^^;;)。こんなテンプレートが５つも６つもあったら堪りません。解決するC++の機能を探したのですが、見当たりませんでした。というか探し方が分かりませんでした。"
      ],
      "metadata": {
        "id": "0Q8z8JVryh6W"
      }
    },
    {
      "cell_type": "markdown",
      "source": [
        "マクロで型のリストを与えて生成する方法を探しましたが、マクロにはfor文のような機能は備わっていないようです。一旦は諦めましたが、良い方法が見つかったので共有します。"
      ],
      "metadata": {
        "id": "XZIrBNY0z0l7"
      }
    },
    {
      "cell_type": "markdown",
      "source": [
        "マクロの中からマクロを呼ぶ方法です。まず次のようにそれぞれの型を引数にしてマクロを生成するマクロ(EXPAND_TYPE)を定義します。"
      ],
      "metadata": {
        "id": "thWTn6Ne1B4h"
      }
    },
    {
      "cell_type": "code",
      "execution_count": 10,
      "metadata": {
        "colab": {
          "base_uri": "https://localhost:8080/"
        },
        "id": "Nr5oT2CaZHDl",
        "outputId": "2a8e2ebb-d4fd-4d5c-f7fb-fa6d6adf86c3"
      },
      "outputs": [
        {
          "output_type": "stream",
          "name": "stdout",
          "text": [
            "Overwriting macro_expand.h\n"
          ]
        }
      ],
      "source": [
        "%%writefile macro_expand.h\n",
        "\n",
        "#define EXPAND_TYPE(M) \\\n",
        "M(int); \\\n",
        "M(long); \\\n",
        "M(long long); \\\n",
        "M(unsigned int); \\\n",
        "M(unsigned long); \\\n",
        "M(unsigned long long); \\\n",
        "M(float); \\\n",
        "M(double);"
      ]
    },
    {
      "cell_type": "markdown",
      "source": [
        "これの動作を確認してみましょう。"
      ],
      "metadata": {
        "id": "jorDN_n21gl6"
      }
    },
    {
      "cell_type": "code",
      "source": [
        "%%writefile macro_expand.cpp\n",
        "#include \"macro_expand.h\"\n",
        "EXPAND_TYPE(func)"
      ],
      "metadata": {
        "colab": {
          "base_uri": "https://localhost:8080/"
        },
        "id": "OzwONXgo1lbY",
        "outputId": "a9cedbb7-2a85-4a97-f232-9a5afee8d4fa"
      },
      "execution_count": 11,
      "outputs": [
        {
          "output_type": "stream",
          "name": "stdout",
          "text": [
            "Overwriting macro_expand.cpp\n"
          ]
        }
      ]
    },
    {
      "cell_type": "code",
      "source": [
        "!g++ -E macro_expand.cpp | grep -v \"#\""
      ],
      "metadata": {
        "colab": {
          "base_uri": "https://localhost:8080/"
        },
        "id": "S5DYHUw51vpU",
        "outputId": "e0371ef5-9500-4b39-9b1d-30dadebe146e"
      },
      "execution_count": 12,
      "outputs": [
        {
          "output_type": "stream",
          "name": "stdout",
          "text": [
            "func(int); func(long); func(long long); func(unsigned int); func(unsigned long); func(unsigned long long); func(float); func(double);\n"
          ]
        }
      ]
    },
    {
      "cell_type": "markdown",
      "source": [
        "改行されないので見にくいですが、コンパイラさんにはちゃんと伝わりそうです。"
      ],
      "metadata": {
        "id": "GNZTMqB32R7_"
      }
    },
    {
      "cell_type": "markdown",
      "source": [
        "実際の使い方は以下のようにテンプレートを実体化する関数に展開するマクロ(FUNC)を定義してEXPAND_TYPEに渡します。\n",
        "\n",
        "\n"
      ],
      "metadata": {
        "id": "VEncuA6Y3zKK"
      }
    },
    {
      "cell_type": "code",
      "source": [
        "%%writefile macro_expand.cpp\n",
        "#include \"macro_expand.h\"\n",
        "\n",
        "template <typename T>\n",
        "T func(T v) {\n",
        "    return v;\n",
        "}\n",
        "\n",
        "#define FUNC(type) template type func(type v);\n",
        "EXPAND_TYPE(FUNC);"
      ],
      "metadata": {
        "colab": {
          "base_uri": "https://localhost:8080/"
        },
        "id": "eLOiFuSEgnM-",
        "outputId": "7d976ae1-ce46-4bed-ae73-c339aa66142a"
      },
      "execution_count": 13,
      "outputs": [
        {
          "output_type": "stream",
          "name": "stdout",
          "text": [
            "Overwriting macro_expand.cpp\n"
          ]
        }
      ]
    },
    {
      "cell_type": "code",
      "source": [
        "!g++ -E macro_expand.cpp | grep -v \"#\""
      ],
      "metadata": {
        "colab": {
          "base_uri": "https://localhost:8080/"
        },
        "id": "WXf41RG-i0QF",
        "outputId": "6ec444e4-6375-447f-e111-54bbd71b506f"
      },
      "execution_count": 14,
      "outputs": [
        {
          "output_type": "stream",
          "name": "stdout",
          "text": [
            "\n",
            "template <typename T>\n",
            "T func(T v) {\n",
            "    return v;\n",
            "}\n",
            "\n",
            "\n",
            "template int func(int v);; template long func(long v);; template long long func(long long v);; template unsigned int func(unsigned int v);; template unsigned long func(unsigned long v);; template unsigned long long func(unsigned long long v);; template float func(float v);; template double func(double v);;;\n"
          ]
        }
      ]
    },
    {
      "cell_type": "markdown",
      "source": [
        "うまくいきました。シンボルを確認してみましょう。"
      ],
      "metadata": {
        "id": "FYk6vE1O4ihb"
      }
    },
    {
      "cell_type": "code",
      "source": [
        "!g++ macro_expand.cpp -c\n",
        "!nm -g macro_expand.o"
      ],
      "metadata": {
        "colab": {
          "base_uri": "https://localhost:8080/"
        },
        "id": "P4ZLCcculdot",
        "outputId": "d2186a54-9a9a-4e1e-96f9-1b80a2fa052a"
      },
      "execution_count": 15,
      "outputs": [
        {
          "output_type": "stream",
          "name": "stdout",
          "text": [
            "0000000000000000 W _Z4funcIdET_S0_\n",
            "0000000000000000 W _Z4funcIfET_S0_\n",
            "0000000000000000 W _Z4funcIiET_S0_\n",
            "0000000000000000 W _Z4funcIjET_S0_\n",
            "0000000000000000 W _Z4funcIlET_S0_\n",
            "0000000000000000 W _Z4funcImET_S0_\n",
            "0000000000000000 W _Z4funcIxET_S0_\n",
            "0000000000000000 W _Z4funcIyET_S0_\n"
          ]
        }
      ]
    },
    {
      "cell_type": "markdown",
      "source": [
        "funcがたくさん定義されているのがわかります。テンプレートごとにFUNCを定義してEXPAND_TYPEを呼ぶだけなので、少しはマシになったのではないでしょうか。"
      ],
      "metadata": {
        "id": "mZlVyASh4_4X"
      }
    }
  ]
}