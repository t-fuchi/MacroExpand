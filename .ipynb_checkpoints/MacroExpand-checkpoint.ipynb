{
  "nbformat": 4,
  "nbformat_minor": 0,
  "metadata": {
    "colab": {
      "provenance": [],
      "authorship_tag": "ABX9TyNGgTrZnJaGDHyNPSOH2Tsk",
      "include_colab_link": true
    },
    "kernelspec": {
      "name": "python3",
      "display_name": "Python 3"
    },
    "language_info": {
      "name": "python"
    }
  },
  "cells": [
    {
      "cell_type": "markdown",
      "metadata": {
        "id": "view-in-github",
        "colab_type": "text"
      },
      "source": [
        "<a href=\"https://colab.research.google.com/github/t-fuchi/MacroExpand/blob/main/MacroExpand.ipynb\" target=\"_parent\"><img src=\"https://colab.research.google.com/assets/colab-badge.svg\" alt=\"Open In Colab\"/></a>"
      ]
    },
    {
      "cell_type": "markdown",
      "source": [
        "# C++のテンプレートのインスタンス化をマクロを使って楽にする"
      ],
      "metadata": {
        "id": "6hakTZQQskdm"
      }
    },
    {
      "cell_type": "markdown",
      "source": [
        "本投稿ではC++でのジェネリックプログラミングにおいて、オブジェクトファイルで配布する場合に手間がかかるインスタンス化の問題を軽減する方法を提案します。"
      ],
      "metadata": {
        "id": "mSFc2_iHuHe4"
      }
    },
    {
      "cell_type": "markdown",
      "source": [
        "C++のテンプレートはとても便利です。例えば以下のようにテンプレートを使えば、それぞれの型ごとにfunc()を定義しないですみます。"
      ],
      "metadata": {
        "id": "_q9SHJ88tZSF"
      }
    },
    {
      "cell_type": "code",
      "source": [
        "%%writefile macro_test.cpp\n",
        "\n",
        "#include <iostream>\n",
        "#include <typeinfo>\n",
        "\n",
        "template <typename T>\n",
        "T func(T v) {\n",
        "    std::cout << v << \":\" << typeid(v).name() << std::endl;\n",
        "    return v;\n",
        "}\n",
        "\n",
        "int main(int argc, char **argv) {\n",
        "    uint32_t u32 = 1;\n",
        "    func(u32);\n",
        "    int32_t s32 = 1;\n",
        "    func(s32);\n",
        "    int64_t s64 = 1;\n",
        "    func(s64);\n",
        "    return 0;\n",
        "}"
      ],
      "metadata": {
        "colab": {
          "base_uri": "https://localhost:8080/"
        },
        "id": "2x10-W2XZkJE",
        "outputId": "fc8b8618-8926-4251-e236-25587a556f68"
      },
      "execution_count": null,
      "outputs": [
        {
          "output_type": "stream",
          "name": "stdout",
          "text": [
            "Writing macro_test.cpp\n"
          ]
        }
      ]
    },
    {
      "cell_type": "code",
      "source": [
        "!g++ macro_test.cpp\n",
        "!./a.out"
      ],
      "metadata": {
        "colab": {
          "base_uri": "https://localhost:8080/"
        },
        "id": "8jy40nQXawH6",
        "outputId": "11616d72-06c4-4870-f4d7-cf34061f7a9c"
      },
      "execution_count": null,
      "outputs": [
        {
          "output_type": "stream",
          "name": "stdout",
          "text": [
            "1:j\n",
            "1:i\n",
            "1:l\n"
          ]
        }
      ]
    },
    {
      "cell_type": "markdown",
      "source": [
        "ここでなんらかの事情によりオブジェクトファイル（.oや.aや.so）でのみ配布したい場合を考えます。その場合、以下のようにテンプレートの定義のみを記述しても、個別の型に対してインスタンス化されません。"
      ],
      "metadata": {
        "id": "k_KYbE6SwSw7"
      }
    },
    {
      "cell_type": "code",
      "source": [
        "%%writefile macro_test.cpp\n",
        "#include <iostream>\n",
        "\n",
        "template <typename T>\n",
        "T func(T v) {\n",
        "    std::cout << v << \":\" << typeid(v).name() << std::endl;\n",
        "    return v;\n",
        "}\n"
      ],
      "metadata": {
        "colab": {
          "base_uri": "https://localhost:8080/"
        },
        "id": "FYpfpksSd2Hm",
        "outputId": "d211a59b-6dc0-49f0-c534-b962e3d2b9c8"
      },
      "execution_count": null,
      "outputs": [
        {
          "output_type": "stream",
          "name": "stdout",
          "text": [
            "Overwriting macro_test.cpp\n"
          ]
        }
      ]
    },
    {
      "cell_type": "code",
      "source": [
        "!g++ macro_test.cpp -c\n",
        "!nm -g macro_test.o"
      ],
      "metadata": {
        "colab": {
          "base_uri": "https://localhost:8080/"
        },
        "id": "6ZS3fjfyfSe9",
        "outputId": "9385b868-f372-4360-c1a1-63d0eafa53ec"
      },
      "execution_count": null,
      "outputs": [
        {
          "output_type": "stream",
          "name": "stdout",
          "text": [
            "                 U __cxa_atexit\n",
            "                 U __dso_handle\n",
            "                 U _GLOBAL_OFFSET_TABLE_\n",
            "                 U _ZNSt8ios_base4InitC1Ev\n",
            "                 U _ZNSt8ios_base4InitD1Ev\n"
          ]
        }
      ]
    },
    {
      "cell_type": "markdown",
      "source": [
        "上記でfuncを含むシンボルが生成されていないことが分かります。このままmacro_test.oをリンクしてもfunc()は使用できません。"
      ],
      "metadata": {
        "id": "NXY2oopMxEoO"
      }
    },
    {
      "cell_type": "markdown",
      "source": [
        "この問題は以下のように特殊化した関数を定義しておくことで解決できます。"
      ],
      "metadata": {
        "id": "D25f9sJSxr49"
      }
    },
    {
      "cell_type": "code",
      "source": [
        "%%writefile macro_test.cpp\n",
        "#include <iostream>\n",
        "\n",
        "template <typename T>\n",
        "T func(T v) {\n",
        "    std::cout << v << \":\" << typeid(v).name() << std::endl;\n",
        "    return v;\n",
        "}\n",
        "\n",
        "template <>\n",
        "int func(int v) {\n",
        "    return func<int>(v);\n",
        "}\n"
      ],
      "metadata": {
        "colab": {
          "base_uri": "https://localhost:8080/"
        },
        "id": "EieV3085e6M8",
        "outputId": "19cf7d5b-025b-4576-c34e-e609134990f8"
      },
      "execution_count": null,
      "outputs": [
        {
          "output_type": "stream",
          "name": "stdout",
          "text": [
            "Overwriting macro_test.cpp\n"
          ]
        }
      ]
    },
    {
      "cell_type": "code",
      "source": [
        "!g++ macro_test.cpp -c\n",
        "!nm -g macro_test.o"
      ],
      "metadata": {
        "colab": {
          "base_uri": "https://localhost:8080/"
        },
        "id": "siByFiOEgj5X",
        "outputId": "f7eecf93-ddbb-43d2-819f-868e9643b4fd"
      },
      "execution_count": null,
      "outputs": [
        {
          "output_type": "stream",
          "name": "stdout",
          "text": [
            "                 U __cxa_atexit\n",
            "                 U __dso_handle\n",
            "                 U _GLOBAL_OFFSET_TABLE_\n",
            "0000000000000000 T _Z4funcIiET_S0_\n",
            "                 U _ZNSt8ios_base4InitC1Ev\n",
            "                 U _ZNSt8ios_base4InitD1Ev\n"
          ]
        }
      ]
    },
    {
      "cell_type": "markdown",
      "source": [
        "funcを含むシンボルが生成されているのが分かります。色々な型に対して準備するには次のように列挙することになります。"
      ],
      "metadata": {
        "id": "ntgA2xngx7Eu"
      }
    },
    {
      "cell_type": "code",
      "source": [
        "%%writefile macro_test.cpp\n",
        "#include <iostream>\n",
        "\n",
        "template <typename T>\n",
        "T func(T v) {\n",
        "    std::cout << v << \":\" << typeid(v).name() << std::endl;\n",
        "    return v;\n",
        "}\n",
        "\n",
        "template<> int func(int v) { return func<int>(v); }\n",
        "template<> long func(int v) { return func<long>(v); }\n",
        "template<> long long func(int v) { return func<long long>(v); }\n",
        "template<> unsigned int func(int v) { return func<unsigned int>(v); }\n",
        "template<> unsigned long func(int v) { return func<unsigned long>(v); }\n",
        "template<> unsigned long long func(int v) { return func<unsigned long long>(v); }\n",
        "..."
      ],
      "metadata": {
        "colab": {
          "base_uri": "https://localhost:8080/"
        },
        "id": "WyIu9LeSq-Rq",
        "outputId": "19845035-75ba-43f5-afc3-361dae94cf40"
      },
      "execution_count": null,
      "outputs": [
        {
          "output_type": "stream",
          "name": "stdout",
          "text": [
            "Overwriting macro_test.cpp\n"
          ]
        }
      ]
    },
    {
      "cell_type": "markdown",
      "source": [
        "これは地味につらい。こんなテンプレートが５つも６つもあったら堪りません。解決するC++の機能を探したのですが、見当たりませんでした。というか探し方が分かりませんでした。"
      ],
      "metadata": {
        "id": "0Q8z8JVryh6W"
      }
    },
    {
      "cell_type": "markdown",
      "source": [
        "マクロで型のリストを与えて生成する方法を探しましたが、マクロにはfor文のような機能は備わっていないようです。一旦は諦めましたが、良い方法が見つかったので共有します。"
      ],
      "metadata": {
        "id": "XZIrBNY0z0l7"
      }
    },
    {
      "cell_type": "markdown",
      "source": [
        "マクロの中からマクロを呼ぶ方法です。まず次のようにそれぞれの型を引数にしてマクロを生成するマクロ(EXPAND_TYPE)を定義します。"
      ],
      "metadata": {
        "id": "thWTn6Ne1B4h"
      }
    },
    {
      "cell_type": "code",
      "execution_count": null,
      "metadata": {
        "colab": {
          "base_uri": "https://localhost:8080/"
        },
        "id": "Nr5oT2CaZHDl",
        "outputId": "9edf626e-725f-4c45-8d02-cc3c1d22ed60"
      },
      "outputs": [
        {
          "output_type": "stream",
          "name": "stdout",
          "text": [
            "Writing macro_expand.h\n"
          ]
        }
      ],
      "source": [
        "%%writefile macro_expand.h\n",
        "\n",
        "#define EXPAND_TYPE(M) \\\n",
        "M(int); \\\n",
        "M(long); \\\n",
        "M(long long); \\\n",
        "M(unsigned int); \\\n",
        "M(unsigned long); \\\n",
        "M(unsigned long long); \\\n",
        "M(float); \\\n",
        "M(double);"
      ]
    },
    {
      "cell_type": "markdown",
      "source": [
        "これの動作を確認してみましょう。"
      ],
      "metadata": {
        "id": "jorDN_n21gl6"
      }
    },
    {
      "cell_type": "code",
      "source": [
        "%%writefile macro_expand.cpp\n",
        "#include \"macro_expand.h\"\n",
        "EXPAND_TYPE(func)"
      ],
      "metadata": {
        "colab": {
          "base_uri": "https://localhost:8080/"
        },
        "id": "OzwONXgo1lbY",
        "outputId": "9d5da340-3b21-4573-a9cc-1aa933aed3f9"
      },
      "execution_count": null,
      "outputs": [
        {
          "output_type": "stream",
          "name": "stdout",
          "text": [
            "Writing macro_expand.cpp\n"
          ]
        }
      ]
    },
    {
      "cell_type": "code",
      "source": [
        "!g++ -E macro_expand.cpp | grep -v \"#\""
      ],
      "metadata": {
        "colab": {
          "base_uri": "https://localhost:8080/"
        },
        "id": "S5DYHUw51vpU",
        "outputId": "63bbddea-9709-4486-dd67-893cb131ee75"
      },
      "execution_count": null,
      "outputs": [
        {
          "output_type": "stream",
          "name": "stdout",
          "text": [
            "func(int); func(long); func(long long); func(unsigned int); func(unsigned long); func(unsigned long long); func(float); func(double);\n"
          ]
        }
      ]
    },
    {
      "cell_type": "markdown",
      "source": [
        "改行されないので見にくいですが、コンパイラさんにはちゃんと伝わりそうです。"
      ],
      "metadata": {
        "id": "GNZTMqB32R7_"
      }
    },
    {
      "cell_type": "markdown",
      "source": [
        "実際の使い方は以下のようにテンプレートを特殊化する関数に展開するマクロ(FUNC)を定義してEXPAND_TYPEに渡します。\n",
        "\n",
        "\n"
      ],
      "metadata": {
        "id": "VEncuA6Y3zKK"
      }
    },
    {
      "cell_type": "code",
      "source": [
        "%%writefile macro_expand.cpp\n",
        "#include \"macro_expand.h\"\n",
        "\n",
        "template <typename T>\n",
        "T func(T v) {\n",
        "    return v;\n",
        "}\n",
        "\n",
        "#define FUNC(type) template<> type func(type v) { return func<type>(v); }\n",
        "\n",
        "EXPAND_TYPE(FUNC);"
      ],
      "metadata": {
        "colab": {
          "base_uri": "https://localhost:8080/"
        },
        "id": "eLOiFuSEgnM-",
        "outputId": "c54cb4bb-addd-4b08-d182-c05c3d8af520"
      },
      "execution_count": null,
      "outputs": [
        {
          "output_type": "stream",
          "name": "stdout",
          "text": [
            "Overwriting macro_expand.cpp\n"
          ]
        }
      ]
    },
    {
      "cell_type": "code",
      "source": [
        "!g++ -E macro_expand.cpp | grep -v \"#\""
      ],
      "metadata": {
        "colab": {
          "base_uri": "https://localhost:8080/"
        },
        "id": "WXf41RG-i0QF",
        "outputId": "2fd136f4-cb54-49f5-fc34-b449c5a8c0e0"
      },
      "execution_count": null,
      "outputs": [
        {
          "output_type": "stream",
          "name": "stdout",
          "text": [
            "\n",
            "template <typename T>\n",
            "T func(T v) {\n",
            "    return v;\n",
            "}\n",
            "\n",
            "\n",
            "\n",
            "template<> int func(int v) { return func<int>(v); }; template<> long func(long v) { return func<long>(v); }; template<> long long func(long long v) { return func<long long>(v); }; template<> unsigned int func(unsigned int v) { return func<unsigned int>(v); }; template<> unsigned long func(unsigned long v) { return func<unsigned long>(v); }; template<> unsigned long long func(unsigned long long v) { return func<unsigned long long>(v); }; template<> float func(float v) { return func<float>(v); }; template<> double func(double v) { return func<double>(v); };;\n"
          ]
        }
      ]
    },
    {
      "cell_type": "markdown",
      "source": [
        "うまくいきました。シンボルを確認してみましょう。"
      ],
      "metadata": {
        "id": "FYk6vE1O4ihb"
      }
    },
    {
      "cell_type": "code",
      "source": [
        "!g++ macro_expand.cpp -c\n",
        "!nm -g macro_expand.o"
      ],
      "metadata": {
        "colab": {
          "base_uri": "https://localhost:8080/"
        },
        "id": "P4ZLCcculdot",
        "outputId": "fd32ef5c-00db-4190-9686-850f9128b407"
      },
      "execution_count": null,
      "outputs": [
        {
          "output_type": "stream",
          "name": "stdout",
          "text": [
            "00000000000000cd T _Z4funcIdET_S0_\n",
            "00000000000000ae T _Z4funcIfET_S0_\n",
            "0000000000000000 T _Z4funcIiET_S0_\n",
            "0000000000000057 T _Z4funcIjET_S0_\n",
            "000000000000001b T _Z4funcIlET_S0_\n",
            "0000000000000072 T _Z4funcImET_S0_\n",
            "0000000000000039 T _Z4funcIxET_S0_\n",
            "0000000000000090 T _Z4funcIyET_S0_\n"
          ]
        }
      ]
    },
    {
      "cell_type": "markdown",
      "source": [
        "funcがたくさん定義されているのがわかります。テンプレートごとにFUNCを定義してEXPAND_TYPEを呼ぶだけなので、少しはマシになったのではないでしょうか。"
      ],
      "metadata": {
        "id": "mZlVyASh4_4X"
      }
    }
  ]
}